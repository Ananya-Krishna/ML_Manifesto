{
 "cells": [
  {
   "cell_type": "markdown",
   "metadata": {
    "id": "VWhUwO_-mL2s"
   },
   "source": [
    "## Introduction of PyTorch\n",
    "\n",
    "PyTorch is a free and open source framework used for machine leanring research and application. It specializes in tensor computations, automatic differentiation, and GPU acceleration. PyTorch is one of the most popular deep learning libraries. See more introduction in https://pytorch.org/.\n"
   ]
  },
  {
   "cell_type": "markdown",
   "metadata": {
    "id": "0R0-JXHoqhtD"
   },
   "source": [
    "## Outline\n",
    "\n"
   ]
  },
  {
   "cell_type": "markdown",
   "metadata": {
    "id": "ETQPVYpoqsvY"
   },
   "source": [
    "- Basic operation\n",
    "- Models\n",
    "- Datasets\n",
    "- Training and testing"
   ]
  },
  {
   "cell_type": "markdown",
   "metadata": {
    "id": "zBRS0TB5mo7o"
   },
   "source": [
    "## Basic operation"
   ]
  },
  {
   "cell_type": "code",
   "execution_count": 32,
   "metadata": {
    "colab": {
     "base_uri": "https://localhost:8080/"
    },
    "id": "Dtrab3iOSzgU",
    "outputId": "9f1d7c52-5fee-4828-a634-d0111492780c"
   },
   "outputs": [
    {
     "name": "stdout",
     "output_type": "stream",
     "text": [
      "Using torch 2.4.1+cu121\n",
      "Using device: cpu\n"
     ]
    }
   ],
   "source": [
    "# import the pytorch library into environment and check its version\n",
    "import torch\n",
    "print(\"Using torch\", torch.__version__)\n",
    "\n",
    "# check if GPU is available and detectable. cpu is ok for this homework.\n",
    "device = torch.device('cuda' if torch.cuda.is_available() else 'cpu')\n",
    "print('Using device:', device)"
   ]
  },
  {
   "cell_type": "markdown",
   "metadata": {
    "id": "Ei5_O8ZXtlGb"
   },
   "source": [
    "### Create Tensor\n",
    "\n",
    "Tensor are the central data abstraction in PyTorch. You can generalize it to the concept you already know. For example, a vector is a 1-D tensor, and a matrix is a 2-D tensor. We can easily create a tensor of various shapes and number of dimensions by PyTorch."
   ]
  },
  {
   "cell_type": "code",
   "execution_count": 33,
   "metadata": {
    "colab": {
     "base_uri": "https://localhost:8080/"
    },
    "id": "KR0ln6OxSzgV",
    "outputId": "d0d87c08-afd4-4902-a525-eee80ecd5cd7"
   },
   "outputs": [
    {
     "name": "stdout",
     "output_type": "stream",
     "text": [
      "tensor([1, 2, 3])\n",
      "tensor([[1, 2, 3],\n",
      "        [4, 5, 6]])\n"
     ]
    }
   ],
   "source": [
    "# construct a 1-D tensor from a list\n",
    "x = torch.tensor([1, 2, 3])\n",
    "print(x)\n",
    "\n",
    "# construct a 2-D tensor from a list\n",
    "x = torch.tensor([[1, 2, 3], [4, 5, 6]])\n",
    "print(x)"
   ]
  },
  {
   "cell_type": "markdown",
   "metadata": {
    "id": "OCY73L2LGoS8"
   },
   "source": [
    "Given a tensor, we can obtain its shape by using `.size` or `.shape` method:"
   ]
  },
  {
   "cell_type": "code",
   "execution_count": 34,
   "metadata": {
    "colab": {
     "base_uri": "https://localhost:8080/"
    },
    "id": "HMg1NUP9Gnkq",
    "outputId": "224e01d0-1e76-4916-e782-3b5619e2ffba"
   },
   "outputs": [
    {
     "name": "stdout",
     "output_type": "stream",
     "text": [
      "Shape of x is torch.Size([2, 3])\n",
      "Size of x is torch.Size([2, 3])\n"
     ]
    }
   ],
   "source": [
    "print(\"Shape of x is\", x.shape)\n",
    "\n",
    "print(\"Size of x is\", x.size())"
   ]
  },
  {
   "cell_type": "markdown",
   "metadata": {
    "id": "aKHOYbMCE9b7"
   },
   "source": [
    "Here are alternatives to create a tensor:\n",
    "\n",
    "* `torch.zeros`: Creates a tensor filled with zeros\n",
    "* `torch.ones`: Creates a tensor filled with ones\n",
    "* `torch.rand`: Creates a tensor with random values uniformly sampled between 0 and 1\n",
    "* `torch.randn`: Creates a tensor with random values sampled from a normal distribution with mean 0 and variance 1\n",
    "* `torch.arange`: Creates a 1-D tensor containing the values $N,N+1,N+2,...,M$\n",
    "\n"
   ]
  },
  {
   "cell_type": "code",
   "execution_count": 35,
   "metadata": {
    "colab": {
     "base_uri": "https://localhost:8080/"
    },
    "id": "RfZq2L2uEphL",
    "outputId": "c29daecb-500c-4853-a0c2-3bcda54b16c0"
   },
   "outputs": [
    {
     "name": "stdout",
     "output_type": "stream",
     "text": [
      "Tensor created by torch.rand function tensor([[0.6724, 0.8673, 0.6353, 0.9933, 0.0068],\n",
      "        [0.2857, 0.1477, 0.5863, 0.7323, 0.5774],\n",
      "        [0.5748, 0.0699, 0.7600, 0.4601, 0.9332],\n",
      "        [0.7008, 0.7732, 0.9310, 0.5195, 0.3189]])\n",
      "Tensor created by torch.arange function tensor([[[0., 0., 0., 0.],\n",
      "         [0., 0., 0., 0.],\n",
      "         [0., 0., 0., 0.]],\n",
      "\n",
      "        [[0., 0., 0., 0.],\n",
      "         [0., 0., 0., 0.],\n",
      "         [0., 0., 0., 0.]]])\n"
     ]
    }
   ],
   "source": [
    "# construct a tensor with random numbers with shape (4, 5)\n",
    "x = torch.rand(4, 5)\n",
    "print(\"Tensor created by torch.rand function\", x)\n",
    "\n",
    "# construct a tensor filled with the scalar value 0 with shape (2, 3, 4)\n",
    "x = torch.zeros(2, 3, 4)\n",
    "print(\"Tensor created by torch.arange function\", x)"
   ]
  },
  {
   "cell_type": "markdown",
   "metadata": {
    "id": "Sc9hyQTnIDX3"
   },
   "source": [
    "### Tensor Operations\n",
    "\n",
    "PyTorch supports various tensor operations. A full list of operations can be found in the [PyTorch documentation](https://pytorch.org/docs/stable/tensors.html#). For example, we can add two tensors with same shape:"
   ]
  },
  {
   "cell_type": "code",
   "execution_count": 36,
   "metadata": {
    "colab": {
     "base_uri": "https://localhost:8080/"
    },
    "id": "8XSh1c4CEpst",
    "outputId": "4642d64f-dacc-4840-ade6-b02e1334d6e6"
   },
   "outputs": [
    {
     "name": "stdout",
     "output_type": "stream",
     "text": [
      "x1: tensor([[0.9053, 0.8342],\n",
      "        [0.0802, 0.0762]])\n",
      "x2: tensor([[0.4487, 0.8498],\n",
      "        [0.8831, 0.8022]])\n",
      "x3: tensor([[1.3541, 1.6841],\n",
      "        [0.9633, 0.8784]])\n"
     ]
    }
   ],
   "source": [
    "x1 = torch.rand(2, 2)\n",
    "x2 = torch.rand(2, 2)\n",
    "x3 = x1 + x2  # return the sum of x1 and x2\n",
    "\n",
    "print(\"x1:\", x1)\n",
    "print(\"x2:\", x2)\n",
    "print(\"x3:\", x3)"
   ]
  },
  {
   "cell_type": "markdown",
   "metadata": {
    "id": "UMKyR-QoJiYK"
   },
   "source": [
    "We also can calculate the matrix product between two tensors:"
   ]
  },
  {
   "cell_type": "code",
   "execution_count": 37,
   "metadata": {
    "colab": {
     "base_uri": "https://localhost:8080/"
    },
    "id": "Enw4SKbvKKwh",
    "outputId": "d4a5b42b-ce3e-4d5d-c85b-53d33b54a52d"
   },
   "outputs": [
    {
     "name": "stdout",
     "output_type": "stream",
     "text": [
      "shape of x: torch.Size([3]) x: tensor([0.3731, 0.7087, 0.2242])\n",
      "shape of W: torch.Size([2, 3]) W: tensor([[0.1229, 0.8911, 0.4110],\n",
      "        [0.3243, 0.6963, 0.8975]])\n",
      "shape of h: torch.Size([2]) h: tensor([0.7695, 0.8157])\n"
     ]
    }
   ],
   "source": [
    "x = torch.rand(3)\n",
    "W = torch.rand(2, 3)\n",
    "h = torch.matmul(W, x)  # return the product between W and x\n",
    "\n",
    "print(\"shape of x:\", x.shape, \"x:\", x)  # shape: [3]\n",
    "print(\"shape of W:\", W.shape, \"W:\", W)  # shape: [2, 3]\n",
    "print(\"shape of h:\", h.shape, \"h:\", h)  # shape: [2]"
   ]
  },
  {
   "cell_type": "markdown",
   "metadata": {
    "id": "9WOoJMhaLpZU"
   },
   "source": [
    "Another common operation aims at changing the shape of a tensor. A tensor'size can be re-organized to any other shape with the same number of elements. In PyTorch, this operation is called `view` or `reshape`:"
   ]
  },
  {
   "cell_type": "code",
   "execution_count": 38,
   "metadata": {
    "colab": {
     "base_uri": "https://localhost:8080/"
    },
    "id": "mWT7phb4KK1x",
    "outputId": "55c93b58-6ad6-40c9-91b5-f3a13bcb803f"
   },
   "outputs": [
    {
     "name": "stdout",
     "output_type": "stream",
     "text": [
      "shape of x: torch.Size([2, 3]) x: tensor([[0.4809, 0.9776, 0.0825],\n",
      "        [0.5382, 0.0434, 0.5947]])\n",
      "shape of x1: torch.Size([6]) x1: tensor([0.4809, 0.9776, 0.0825, 0.5382, 0.0434, 0.5947])\n",
      "shape of x2: torch.Size([3, 2]) x2: tensor([[0.4809, 0.9776],\n",
      "        [0.0825, 0.5382],\n",
      "        [0.0434, 0.5947]])\n"
     ]
    }
   ],
   "source": [
    "x = torch.rand(2, 3)\n",
    "x1 = x.view(6)\n",
    "x2 = x.reshape(3, 2)\n",
    "\n",
    "print(\"shape of x:\", x.shape, \"x:\", x)  # shape: [2, 3]\n",
    "print(\"shape of x1:\", x1.shape, \"x1:\", x1)  # shape: [6]\n",
    "print(\"shape of x2:\", x2.shape, \"x2:\", x2)  # shape: [3, 2]"
   ]
  },
  {
   "cell_type": "markdown",
   "metadata": {
    "id": "ddiMjUdbmW24"
   },
   "source": [
    "### Question 1 (5 points)\n",
    "\n",
    "Given a 1-D tensor, what is the index of its maximum value?\n"
   ]
  },
  {
   "cell_type": "code",
   "execution_count": 39,
   "metadata": {
    "colab": {
     "base_uri": "https://localhost:8080/"
    },
    "id": "Wg17zDRQo2HG",
    "outputId": "c5f57b44-e354-41be-d99a-c42749207158"
   },
   "outputs": [
    {
     "name": "stdout",
     "output_type": "stream",
     "text": [
      "index of the maximum value of tensor([0.4380, 0.1634, 0.4156, 0.3094, 0.2520]) is 0\n"
     ]
    }
   ],
   "source": [
    "def get_idx_max(x):\n",
    "  # TODO: Implement a function that takes a tensor object\n",
    "  # and returns the index of its maximum value.\n",
    "\n",
    "  max_idx = -1\n",
    "\n",
    "  ############# Your code here ############\n",
    "  max_idx = torch.argmax(x).item()\n",
    "\n",
    "  #########################################\n",
    "\n",
    "  return max_idx\n",
    "\n",
    "x = torch.rand(5)\n",
    "max_idx = get_idx_max(x)\n",
    "print('index of the maximum value of {} is {}'.format(x, max_idx))"
   ]
  },
  {
   "cell_type": "markdown",
   "metadata": {
    "id": "G-DjqAslNX29"
   },
   "source": [
    "## Models\n",
    "\n",
    "We can use PyTorch to build deep learning model. Here we will give an example of using multi-layer perceptron (MLP) to perform image classification. We'll start with building a MLP.\n"
   ]
  },
  {
   "cell_type": "code",
   "execution_count": 40,
   "metadata": {
    "id": "6qFGvRYJSErW"
   },
   "outputs": [],
   "source": [
    "# import neural network module of PyTorch\n",
    "import torch.nn as nn\n",
    "import torch.nn.functional as F"
   ]
  },
  {
   "cell_type": "markdown",
   "metadata": {
    "id": "WYsSkgCxSGEW"
   },
   "source": [
    "A MLP is built by stacking multiple linear layers:\n",
    "\n",
    "$$Linear(X):=A X + b$$\n",
    "\n",
    "with $X\\in \\mathbb{R}^{n\\times k}$, $A\\in \\mathbb{R}^{m\\times n}$, $b\\in\\mathbb{R}^{m\\times 1}$. We can implement a linear layer with `nn.Linear`:\n",
    "\n"
   ]
  },
  {
   "cell_type": "code",
   "execution_count": 41,
   "metadata": {
    "colab": {
     "base_uri": "https://localhost:8080/"
    },
    "id": "AWhLXWFWVMQA",
    "outputId": "20e2060b-36b3-49be-adf6-73440deae436"
   },
   "outputs": [
    {
     "name": "stdout",
     "output_type": "stream",
     "text": [
      "torch.Size([10, 5])\n",
      "torch.Size([10])\n"
     ]
    }
   ],
   "source": [
    "linear = nn.Linear(5, 10)  # creat a linear layer with n=5, m=10\n",
    "\n",
    "print(linear.weight.shape)  # [10, 5]\n",
    "print(linear.bias.shape)  # [10]"
   ]
  },
  {
   "cell_type": "markdown",
   "metadata": {
    "id": "ePjdm2WKb0rM"
   },
   "source": [
    "We can feed a tensor into the linear module to perform linear transformation:"
   ]
  },
  {
   "cell_type": "code",
   "execution_count": 42,
   "metadata": {
    "colab": {
     "base_uri": "https://localhost:8080/"
    },
    "id": "Kcb3PWpNcAdX",
    "outputId": "f0993878-b148-4c05-ee4c-242c48285f2a"
   },
   "outputs": [
    {
     "name": "stdout",
     "output_type": "stream",
     "text": [
      "x: tensor([[0.2809, 0.7841, 0.1630, 0.5687, 0.6197],\n",
      "        [0.6580, 0.6588, 0.8822, 0.3198, 0.6587],\n",
      "        [0.6378, 0.0970, 0.9958, 0.2231, 0.3193],\n",
      "        [0.4442, 0.2903, 0.4290, 0.5630, 0.9154],\n",
      "        [0.0920, 0.4770, 0.0913, 0.8662, 0.1114],\n",
      "        [0.9987, 0.5474, 0.6008, 0.4283, 0.3298]])\n",
      "Linear(x): tensor([[ 0.1004,  0.0930, -0.0979, -0.3988, -0.9489, -0.0949,  0.3885, -0.8743,\n",
      "         -0.7843,  0.4851],\n",
      "        [ 0.4196,  0.0093, -0.2650, -0.4608, -1.1444,  0.1634,  0.5843, -0.4744,\n",
      "         -1.0694,  0.3678],\n",
      "        [ 0.2817, -0.0291, -0.4587, -0.3436, -0.8308,  0.0801,  0.4761, -0.1365,\n",
      "         -0.8769,  0.3536],\n",
      "        [ 0.2368,  0.0071, -0.2479, -0.4445, -0.9197,  0.0598,  0.4559, -0.7201,\n",
      "         -0.9331,  0.3217],\n",
      "        [-0.1123, -0.0073, -0.3455, -0.3320, -0.5766, -0.2574,  0.3058, -0.7652,\n",
      "         -0.4178,  0.7121],\n",
      "        [ 0.4131,  0.2559, -0.1987, -0.5998, -1.0430,  0.0172,  0.3581, -0.4653,\n",
      "         -0.8870,  0.3174]], grad_fn=<AddmmBackward0>)\n"
     ]
    }
   ],
   "source": [
    "x = torch.rand(6, 5)\n",
    "\n",
    "print(\"x:\", x)\n",
    "print(\"Linear(x):\", linear(x))"
   ]
  },
  {
   "cell_type": "markdown",
   "metadata": {
    "id": "P2RN7fOwV0pk"
   },
   "source": [
    "Besides, to expand the capability and allow model to learn non-linear transformation between inputs and outputs, we will introduce the non-linear activation function between two linear layers. Here we use ReLU activation function:\n",
    "\n",
    "![](https://github.com/Graph-and-Geometric-Learning/CPSC483-colab/blob/main/fig/relu.png?raw=1)\n",
    "\n",
    "We can implement a ReLU functino by using `F.relu` or `nn.ReLU()`:"
   ]
  },
  {
   "cell_type": "code",
   "execution_count": 43,
   "metadata": {
    "colab": {
     "base_uri": "https://localhost:8080/"
    },
    "id": "56ygKD1DZajR",
    "outputId": "2a282f4d-48ce-4aa1-9562-51dfca095b72"
   },
   "outputs": [
    {
     "name": "stdout",
     "output_type": "stream",
     "text": [
      "x: tensor([[0.8561, 0.4170, 0.3942],\n",
      "        [0.1198, 0.9835, 0.8232]])\n",
      "F.relu(x): tensor([[0.8561, 0.4170, 0.3942],\n",
      "        [0.1198, 0.9835, 0.8232]])\n",
      "nn.relu(x): tensor([[0.8561, 0.4170, 0.3942],\n",
      "        [0.1198, 0.9835, 0.8232]])\n"
     ]
    }
   ],
   "source": [
    "x = torch.rand(2, 3)\n",
    "act_fn = nn.ReLU()\n",
    "\n",
    "print(\"x:\", x)\n",
    "print(\"F.relu(x):\", F.relu(x))\n",
    "print(\"nn.relu(x):\", act_fn(x))"
   ]
  },
  {
   "cell_type": "markdown",
   "metadata": {
    "id": "H1ikBfJFZ1iy"
   },
   "source": [
    "### Question 2 (10 points)\n",
    "\n",
    "Now it is your time to build a MLP with linear layer and non-linear function. We use `nn.Module` to define a MLP class containing the basic modules of MLP. The modules we need will be defined in `__init__` function and the calculation will be performed in `forward` function."
   ]
  },
  {
   "cell_type": "code",
   "execution_count": 44,
   "metadata": {
    "id": "_GIzPoJINXKm"
   },
   "outputs": [],
   "source": [
    "class MLP(nn.Module):\n",
    "    def __init__(self, input_dim, hidden_dim, output_dim):\n",
    "        super().__init__()\n",
    "\n",
    "        # TODO: Define two Linear modules and a ReLU function.\n",
    "        # The input size and output size of first Linear module should be input_dim and hidden_dim\n",
    "        # The input size and output size of second Linear module should be hidden_dim and output_dim\n",
    "\n",
    "        ############# Your code here ############\n",
    "        self.linear_1 = nn.Linear(input_dim, hidden_dim)\n",
    "        self.relu = nn.ReLU()\n",
    "        self.linear_2 = nn.Linear(hidden_dim, output_dim)\n",
    "\n",
    "        #########################################\n",
    "\n",
    "    def forward(self, x):\n",
    "\n",
    "        batch_size = x.shape[0]\n",
    "        x = x.view(batch_size, -1)  # reshape the tensor to a 1-D vector\n",
    "        out = 0\n",
    "\n",
    "        # TODO: Use the modules you define in __init__ to perform calculation.\n",
    "        # ReLU function should be used in the middle of two Linear modules.\n",
    "\n",
    "        ############# Your code here ############\n",
    "        ## (~3 line of code)\n",
    "        x = self.linear_1(x)\n",
    "        x = self.relu(x)\n",
    "        out = self.linear_2(x)\n",
    "\n",
    "        #########################################\n",
    "\n",
    "        return out"
   ]
  },
  {
   "cell_type": "markdown",
   "metadata": {
    "id": "vOoSsST0uMQc"
   },
   "source": [
    "As shown in the `MLP` class, we initialize the modules we need in `__init__` function, and perform the calculation of the model to predict the results in `forward` function. Here is an example to instantiate a MLP model:"
   ]
  },
  {
   "cell_type": "code",
   "execution_count": 45,
   "metadata": {
    "colab": {
     "base_uri": "https://localhost:8080/"
    },
    "id": "ukjByiB1ztz_",
    "outputId": "0ad5673a-9067-4920-8a25-332e6be1f280"
   },
   "outputs": [
    {
     "name": "stdout",
     "output_type": "stream",
     "text": [
      "MLP(\n",
      "  (linear_1): Linear(in_features=10, out_features=20, bias=True)\n",
      "  (relu): ReLU()\n",
      "  (linear_2): Linear(in_features=20, out_features=10, bias=True)\n",
      ")\n"
     ]
    }
   ],
   "source": [
    "model = MLP(input_dim=10, hidden_dim=20, output_dim=10)\n",
    "print(model)  # show all the submodules"
   ]
  },
  {
   "cell_type": "markdown",
   "metadata": {
    "id": "IwodgWvlsmLT"
   },
   "source": [
    "We can obtain the parameters of a module by its `parameters` functions, or `named_parameters` to get a name to each parameter object. For our MLP, we have the following parameters:"
   ]
  },
  {
   "cell_type": "code",
   "execution_count": 46,
   "metadata": {
    "colab": {
     "base_uri": "https://localhost:8080/"
    },
    "id": "1O5O2Dc1slo0",
    "outputId": "33acdb36-ea63-4bc0-be8d-c27c58863bf3"
   },
   "outputs": [
    {
     "name": "stdout",
     "output_type": "stream",
     "text": [
      "Parameter linear_1.weight, shape torch.Size([20, 10])\n",
      "Parameter linear_1.bias, shape torch.Size([20])\n",
      "Parameter linear_2.weight, shape torch.Size([10, 20])\n",
      "Parameter linear_2.bias, shape torch.Size([10])\n"
     ]
    }
   ],
   "source": [
    "for name, param in model.named_parameters():\n",
    "    print(f\"Parameter {name}, shape {param.shape}\")"
   ]
  },
  {
   "cell_type": "markdown",
   "metadata": {
    "id": "ztrLP3j8vtaR"
   },
   "source": [
    "## Datasets\n",
    "\n",
    "We are going to use a dataset for image classification called MNIST. It is a large database of handwritten digits, and widely used for training and testing in the field of image processing. We can esily load this dataset with the help of PyTorch.\n"
   ]
  },
  {
   "cell_type": "code",
   "execution_count": 47,
   "metadata": {
    "id": "8gn1LsIryRDP"
   },
   "outputs": [],
   "source": [
    "import torch.utils.data as data\n",
    "import torchvision.datasets as datasets\n",
    "import torchvision.transforms as transforms"
   ]
  },
  {
   "cell_type": "markdown",
   "metadata": {
    "id": "s0EimIP8yZJW"
   },
   "source": [
    "After importing required library, we can download the dataset of MNIST and save it in a folder. It will automatically create the folder if it doesn't exist."
   ]
  },
  {
   "cell_type": "code",
   "execution_count": 48,
   "metadata": {
    "id": "P9zunwfNyvK9"
   },
   "outputs": [],
   "source": [
    "ROOT = '.data'  # the folder for saving dataset\n",
    "\n",
    "train_data = datasets.MNIST(root=ROOT,\n",
    "                            train=True,\n",
    "                            download=True)"
   ]
  },
  {
   "cell_type": "markdown",
   "metadata": {
    "id": "t5Z8UVv_y40u"
   },
   "source": [
    "To improve the model's generalization and robustness, we usually will preprocess and augment our dataset. Data augmentation is a group of methods for creating new data points from existing data in order to increase the amount of data. These operations are included in `transforms.Compose` function. Here are some common transforms:\n",
    "\n",
    "- `RandomRotation` - randomly rotates the image between `(-x, +x)` degrees, where we have set `x = 5`.\n",
    "- `RandomCrop` - randomly taking a square crop of the image.\n",
    "- `ToTensor()` - this converts the image from a PIL format into a PyTorch tensor.\n",
    "- `Normalize` - this subtracts the mean and divides by the standard deviations given.\n"
   ]
  },
  {
   "cell_type": "code",
   "execution_count": 49,
   "metadata": {
    "id": "-23N4YwR2b4y"
   },
   "outputs": [],
   "source": [
    "mean = train_data.data.float().mean() / 255\n",
    "std = train_data.data.float().std() / 255\n",
    "\n",
    "train_transforms = transforms.Compose([\n",
    "                            transforms.RandomRotation(5, fill=(0,)),\n",
    "                            transforms.RandomCrop(28, padding=2),\n",
    "                            transforms.ToTensor(),\n",
    "                            transforms.Normalize(mean=[mean], std=[std])\n",
    "                                      ])\n",
    "\n",
    "test_transforms = transforms.Compose([\n",
    "                           transforms.ToTensor(),\n",
    "                           transforms.Normalize(mean=[mean], std=[std])\n",
    "                                     ])"
   ]
  },
  {
   "cell_type": "markdown",
   "metadata": {
    "id": "rmZBnLbt2nWc"
   },
   "source": [
    "Now with the transform function, we can load the train and test dataset of MNIST:"
   ]
  },
  {
   "cell_type": "code",
   "execution_count": 50,
   "metadata": {
    "colab": {
     "base_uri": "https://localhost:8080/"
    },
    "id": "iBgm1GKn2jLK",
    "outputId": "e87f9ee6-f033-4417-b43f-1852321bb331"
   },
   "outputs": [
    {
     "name": "stdout",
     "output_type": "stream",
     "text": [
      "Number of training examples: 50000\n",
      "Number of training examples: 10000\n",
      "Number of testing examples: 10000\n"
     ]
    }
   ],
   "source": [
    "train_data = datasets.MNIST(root=ROOT,\n",
    "                            train=True,\n",
    "                            download=True,\n",
    "                            transform=train_transforms)\n",
    "\n",
    "test_data = datasets.MNIST(root=ROOT,\n",
    "                           train=False,\n",
    "                           download=True,\n",
    "                           transform=test_transforms)\n",
    "\n",
    "\n",
    "\n",
    "# Define the size of your training and validation datasets\n",
    "train_size = 50000  # 50000 for training\n",
    "val_size = len(train_data) - train_size  # 10000 for validation\n",
    "\n",
    "# Split the dataset\n",
    "train_data, val_data = data.random_split(train_data, [train_size, val_size])\n",
    "\n",
    "print(f'Number of training examples: {len(train_data)}')  # check the number of the image in the train datasets\n",
    "print(f'Number of training examples: {len(val_data)}')  # check the number of the image in the validation datasets\n",
    "print(f'Number of testing examples: {len(test_data)}')  # check the number of the image in the test datasets"
   ]
  },
  {
   "cell_type": "markdown",
   "metadata": {
    "id": "ja4x5h5EZZ_4"
   },
   "source": [
    "**NOTE**: The train/validation split is not ideal here because the validation dataset applies the `train_transform`, which is not what we want. However, we have kept it this way for simplicity."
   ]
  },
  {
   "cell_type": "markdown",
   "metadata": {
    "id": "IEvPG5hIfuU5"
   },
   "source": [
    "### Question 3 (5 points)\n",
    "\n",
    "What is the label of the image with index 100 in the train dataset?"
   ]
  },
  {
   "cell_type": "code",
   "execution_count": 51,
   "metadata": {
    "colab": {
     "base_uri": "https://localhost:8080/"
    },
    "id": "VDs-UuOlf4md",
    "outputId": "2d7fb0ca-1235-4b92-9495-6306ef9fabda"
   },
   "outputs": [
    {
     "name": "stdout",
     "output_type": "stream",
     "text": [
      "Image with index 100 has label 8\n"
     ]
    }
   ],
   "source": [
    "def get_image_label(dataset, idx):\n",
    "  # TODO: Implement a function that takes a dataset object,\n",
    "  # an index of a image within the dataset, and returns the class/label\n",
    "  # of the image (as an integer).\n",
    "\n",
    "  label = -1\n",
    "\n",
    "  ############# Your code here ############\n",
    "  _, label = dataset[idx]\n",
    "\n",
    "  #########################################\n",
    "\n",
    "  return label\n",
    "\n",
    "idx = 100\n",
    "label = get_image_label(train_data, idx)\n",
    "print('Image with index {} has label {}'.format(idx, label))"
   ]
  },
  {
   "cell_type": "markdown",
   "metadata": {
    "id": "1SZax14Sg61s"
   },
   "source": [
    "### Question 4 (5 points)\n",
    "\n",
    "What is the number of classes in the MNIST dataset?"
   ]
  },
  {
   "cell_type": "code",
   "execution_count": 52,
   "metadata": {
    "colab": {
     "base_uri": "https://localhost:8080/"
    },
    "id": "HIaY37ozhB7C",
    "outputId": "0d4e56ed-bd48-4e7d-d520-04f77f9a6e32"
   },
   "outputs": [
    {
     "name": "stdout",
     "output_type": "stream",
     "text": [
      "dataset has 10 classes\n"
     ]
    }
   ],
   "source": [
    "def get_num_classes(dataset):\n",
    "  # TODO: Implement a function that takes a dataset object\n",
    "  # and returns the number of classes for that dataset.\n",
    "\n",
    "  num_classes = 0\n",
    "\n",
    "  ############# Your code here ############\n",
    "  num_classes = len(set(tuple[1] for tuple in list(dataset)))\n",
    "\n",
    "  #########################################\n",
    "\n",
    "  return num_classes\n",
    "\n",
    "num_classes = get_num_classes(train_data)\n",
    "print(\"dataset has {} classes\".format(num_classes))"
   ]
  },
  {
   "cell_type": "markdown",
   "metadata": {
    "id": "9Zb0ZDyp2_QX"
   },
   "source": [
    "We can have a look at these images with the help of library `matplotlib`."
   ]
  },
  {
   "cell_type": "code",
   "execution_count": 53,
   "metadata": {
    "colab": {
     "base_uri": "https://localhost:8080/",
     "height": 422
    },
    "id": "ZZTKpDUW2kOo",
    "outputId": "a83125b8-b615-4fa7-a34b-7474dbb19517"
   },
   "outputs": [
    {
     "data": {
      "text/plain": [
       "(-0.5, 27.5, 27.5, -0.5)"
      ]
     },
     "execution_count": 53,
     "metadata": {},
     "output_type": "execute_result"
    },
    {
     "data": {
      "image/png": "[encoded data removed]",
      "text/plain": [
       "<Figure size 640x480 with 1 Axes>"
      ]
     },
     "metadata": {},
     "output_type": "display_data"
    }
   ],
   "source": [
    "import matplotlib.pyplot as plt\n",
    "\n",
    "image_idx = 50  # the index of the image we want to see\n",
    "image = train_data[50][0]\n",
    "\n",
    "fig = plt.figure()\n",
    "plt.imshow(image.view(28, 28).cpu().numpy(), cmap='bone')  # plot the image\n",
    "plt.axis('off')"
   ]
  },
  {
   "cell_type": "markdown",
   "metadata": {
    "id": "LJmfZ8Ll4jCi"
   },
   "source": [
    "`DataLoader` is also an important tool during our training. It can iterate over the dataset and yield a batch of images and labels to the model. The batchsize is a hyperparameter and we need to tune it during training. Here we set batchsize as 64, and define the dataloader for training and testing:"
   ]
  },
  {
   "cell_type": "code",
   "execution_count": 54,
   "metadata": {
    "id": "c0wuXZZj6FX1"
   },
   "outputs": [],
   "source": [
    "BATCH_SIZE = 64\n",
    "\n",
    "train_loader = data.DataLoader(train_data,\n",
    "                                 shuffle=True,  # shuffle the dataset in every epoch\n",
    "                                 batch_size=BATCH_SIZE)\n",
    "\n",
    "\n",
    "val_loader = data.DataLoader(val_data,\n",
    "                                batch_size=BATCH_SIZE)\n",
    "test_loader = data.DataLoader(test_data,\n",
    "                                batch_size=BATCH_SIZE)"
   ]
  },
  {
   "cell_type": "markdown",
   "metadata": {
    "id": "E6Clt1fXZKtJ"
   },
   "source": [
    "Now we need to initialize a MLP with appropriate `input_dim`, `hidden_dim` and `output_dim`. The image size is 28*28, and we will first flatten the image into a 784 element vector. So `input_dim` is 784 in MLP. `hidden_dim` is a tunable hyperparameter, and here we set it as 200. `output_dim` is the number of the classes. Please write the correct numbers and initialize a MLP:"
   ]
  },
  {
   "cell_type": "code",
   "execution_count": 55,
   "metadata": {
    "id": "i4mVaLnZZlAt"
   },
   "outputs": [],
   "source": [
    "input_dim, hidden_dim, output_dim = 784, 200, 10\n",
    "\n",
    "model = MLP(input_dim=input_dim, hidden_dim=hidden_dim, output_dim=output_dim)"
   ]
  },
  {
   "cell_type": "markdown",
   "metadata": {
    "id": "P68ox-lD6yvE"
   },
   "source": [
    "## Training and testing\n",
    "\n",
    "Here is a total pipeline of training a model:\n",
    "\n",
    "- pass a batch of data through the model and obtain the prediction\n",
    "- compare the prediction with the label and calculate the loss of this batch\n",
    "- calculate the gradient of each of the parameters with respect to the loss\n",
    "- update the parameters with optimizer\n",
    "\n",
    "To end-to-end train a model, we need to define a [optimizer](https://ruder.io/optimizing-gradient-descent/) and [loss function](https://towardsdatascience.com/common-loss-functions-in-machine-learning-46af0ffc4d23). Optimizer is a kind of algorithm used to updated the parameter effectively. Here we use Adam as our optimizer:"
   ]
  },
  {
   "cell_type": "code",
   "execution_count": 56,
   "metadata": {
    "id": "j_AgDChN8pju"
   },
   "outputs": [],
   "source": [
    "import torch.optim as optim\n",
    "\n",
    "optimizer = optim.Adam(model.parameters())"
   ]
  },
  {
   "cell_type": "markdown",
   "metadata": {
    "id": "tOpgNJT59-GU"
   },
   "source": [
    "Then, we define loss function. How to choose a loss function? It depends on our current machine learning task:\n",
    "\n",
    "- Mean Square Error: measured as the average of squared difference between predictions and actual observations. It is for regression task.\n",
    "- Cross Entropy loss: computes the softmax activation function on the supplied predictions as well as the actual loss via negative log likelihood. It is for classification task.\n",
    "- Mean Absolute Error: measured as the average of sum of absolute differences between predictions and actual observations. It is for regression task.\n",
    "\n",
    "Our task is try to categorize the digit of the image, which is a kind of classification task. So here we define the Cross Entropy loss:"
   ]
  },
  {
   "cell_type": "code",
   "execution_count": 57,
   "metadata": {
    "id": "_ylJMn0OBXVa"
   },
   "outputs": [],
   "source": [
    "loss_fn = nn.CrossEntropyLoss()"
   ]
  },
  {
   "cell_type": "markdown",
   "metadata": {
    "id": "l0y35_83BmjO"
   },
   "source": [
    "Now we can start to train our model! What we will do is:\n",
    "\n",
    "- we put the model into `train` mode\n",
    "- iterate over our dataloader, returning batches of (image, label)\n",
    "- clear the gradients calculated from the last batch\n",
    "- calculate the loss between our predictions and the actual labels\n",
    "- calculate the gradients of each parameter\n",
    "- update the parameters by taking an optimizer step\n",
    "- update our metrics"
   ]
  },
  {
   "cell_type": "code",
   "execution_count": 58,
   "metadata": {
    "id": "bsKhLiOVCdow"
   },
   "outputs": [],
   "source": [
    "from tqdm import tqdm\n",
    "\n",
    "def train(model, dataloader, optimizer, loss_fn):\n",
    "\n",
    "    epoch_loss = 0\n",
    "    model.train()\n",
    "\n",
    "    for (x, y) in tqdm(dataloader, desc=\"Training\"):  # iterate over our dataloader\n",
    "\n",
    "        optimizer.zero_grad()  # clear the gradients\n",
    "\n",
    "        y_pred = model(x)\n",
    "\n",
    "        loss = loss_fn(y_pred, y)  # calculate the loss\n",
    "\n",
    "        loss.backward()  # calculate the gradients of each parameter\n",
    "\n",
    "        optimizer.step()  # update the parameters by taking an optimizer step\n",
    "\n",
    "        epoch_loss += loss.item()\n",
    "\n",
    "    return epoch_loss / len(dataloader)"
   ]
  },
  {
   "cell_type": "markdown",
   "metadata": {
    "id": "lqkSkLWKC7ku"
   },
   "source": [
    "### Question 5 (5 points)\n",
    "\n",
    "After training the model, we need to evaluate it. Here we first need to define a function to calculate the accuracy. It will compare the model prediction against the real class label:"
   ]
  },
  {
   "cell_type": "code",
   "execution_count": 59,
   "metadata": {
    "colab": {
     "base_uri": "https://localhost:8080/"
    },
    "id": "CopI23pyDgFk",
    "outputId": "7a3c888c-daec-4ec8-cc3d-0c4f8261a0b5"
   },
   "outputs": [
    {
     "name": "stdout",
     "output_type": "stream",
     "text": [
      "accuracy: 0.6\n"
     ]
    }
   ],
   "source": [
    "def calculate_accuracy(pred, label):\n",
    "  # TODO: Implement the accuracy function. This function takes the\n",
    "  # pred tensor and the label tensor. Take the index of the highest value for\n",
    "  # your prediction and compares it against the actual class label.\n",
    "\n",
    "  acc = 0.0\n",
    "\n",
    "  ############# Your code here ############\n",
    "  # print(pred)\n",
    "  # print(label)\n",
    "  true = 0\n",
    "  for i in range(len(pred)):\n",
    "    for j in range(len(pred[i])):\n",
    "      if pred[i, j] == max([p.item() for p in pred[i]]):\n",
    "        if label[i].item() == j:\n",
    "          true += 1\n",
    "    acc = true/(len(label))\n",
    "  #########################################\n",
    "\n",
    "  return acc\n",
    "\n",
    "pred = torch.rand(5, 3)  # 5 examples, 3 classes\n",
    "label = torch.tensor([0, 1, 2, 1, 0])  # the true label of each example\n",
    "print(\"accuracy:\", calculate_accuracy(pred, label))"
   ]
  },
  {
   "cell_type": "markdown",
   "metadata": {
    "id": "Ope6QD8w8w3S"
   },
   "source": [
    "### Question 6 (10 points)\n",
    "\n",
    "Then we define the evaluation function, which is similar as training one:\n",
    "\n",
    "- we put the model into `eval` mode\n",
    "- we wrap the iterations inside a `with torch.no_grad()`\n",
    "- iterate over our dataloader, returning batches of (image, label)\n",
    "- calculate the loss between our predictions and the actual labels\n",
    "- calculate the accuracy\n",
    "- we do not calculate or zero gradients\n",
    "- we do not take an optimizer step\n",
    "- update our metrics"
   ]
  },
  {
   "cell_type": "code",
   "execution_count": 60,
   "metadata": {
    "id": "E_qC8okeEG8R"
   },
   "outputs": [],
   "source": [
    "def evaluate(model, dataloader, loss_fn):\n",
    "\n",
    "    epoch_loss = 0\n",
    "    epoch_acc = 0\n",
    "\n",
    "    # TODO: Implement a evaluation function that takes the model,\n",
    "    # dataloader, loss function and returns the average loss and accuracy.\n",
    "\n",
    "    ############# Your code here ############\n",
    "    ## (~8 lines of code)\n",
    "    model.eval()\n",
    "    with torch.no_grad():\n",
    "      for (x, y) in dataloader:\n",
    "        y_pred = model(x)\n",
    "        loss = loss_fn(y_pred, y)\n",
    "        acc = calculate_accuracy(y_pred, y)\n",
    "        epoch_loss += loss.item()\n",
    "        epoch_acc += acc\n",
    "\n",
    "    #########################################\n",
    "\n",
    "    return epoch_loss / len(dataloader), epoch_acc / len(dataloader)"
   ]
  },
  {
   "cell_type": "markdown",
   "metadata": {
    "id": "Rx4JS2VUWzOl"
   },
   "source": [
    "The main difference between training process and evaluating process is:\n",
    "\n",
    "\n",
    "\n",
    "Let's start to train our model!"
   ]
  },
  {
   "cell_type": "code",
   "execution_count": 61,
   "metadata": {
    "colab": {
     "base_uri": "https://localhost:8080/"
    },
    "id": "t7ghay5uYKOR",
    "outputId": "bd97840a-4db1-403d-faad-ed14e65ab9a7"
   },
   "outputs": [
    {
     "name": "stderr",
     "output_type": "stream",
     "text": [
      "Training: 100%|██████████| 782/782 [00:33<00:00, 23.61it/s]\n"
     ]
    },
    {
     "name": "stdout",
     "output_type": "stream",
     "text": [
      "Epoch: 01 | Epoch Time: 33.12224745750427s\n",
      "\tTrain Loss: 0.436\n",
      "Val Loss: 0.234 | Val Acc: 93.21%\n"
     ]
    },
    {
     "name": "stderr",
     "output_type": "stream",
     "text": [
      "Training: 100%|██████████| 782/782 [00:32<00:00, 24.37it/s]\n"
     ]
    },
    {
     "name": "stdout",
     "output_type": "stream",
     "text": [
      "Epoch: 02 | Epoch Time: 32.09669375419617s\n",
      "\tTrain Loss: 0.184\n",
      "Val Loss: 0.172 | Val Acc: 95.02%\n"
     ]
    },
    {
     "name": "stderr",
     "output_type": "stream",
     "text": [
      "Training: 100%|██████████| 782/782 [00:30<00:00, 25.23it/s]\n"
     ]
    },
    {
     "name": "stdout",
     "output_type": "stream",
     "text": [
      "Epoch: 03 | Epoch Time: 31.004374027252197s\n",
      "\tTrain Loss: 0.150\n",
      "Val Loss: 0.174 | Val Acc: 95.17%\n"
     ]
    },
    {
     "name": "stderr",
     "output_type": "stream",
     "text": [
      "Training: 100%|██████████| 782/782 [00:30<00:00, 25.23it/s]\n"
     ]
    },
    {
     "name": "stdout",
     "output_type": "stream",
     "text": [
      "Epoch: 04 | Epoch Time: 30.99575400352478s\n",
      "\tTrain Loss: 0.134\n",
      "Val Loss: 0.143 | Val Acc: 95.75%\n"
     ]
    },
    {
     "name": "stderr",
     "output_type": "stream",
     "text": [
      "Training: 100%|██████████| 782/782 [00:32<00:00, 24.32it/s]\n"
     ]
    },
    {
     "name": "stdout",
     "output_type": "stream",
     "text": [
      "Epoch: 05 | Epoch Time: 32.168670892715454s\n",
      "\tTrain Loss: 0.119\n",
      "Val Loss: 0.145 | Val Acc: 95.61%\n"
     ]
    }
   ],
   "source": [
    "from time import time\n",
    "\n",
    "EPOCHS = 5  # number of training epoch\n",
    "CHECK_VAL_EVERY_N_EPOCH = 1\n",
    "\n",
    "best_valid_loss = float('inf')\n",
    "\n",
    "for epoch in range(EPOCHS):\n",
    "\n",
    "    start_time = time()  # record the start time\n",
    "\n",
    "    train_loss = train(model, train_loader, optimizer, loss_fn)\n",
    "\n",
    "    end_time = time()\n",
    "\n",
    "    epoch_time = end_time - start_time\n",
    "\n",
    "    print(f'Epoch: {epoch+1:02} | Epoch Time: {epoch_time}s')\n",
    "    print(f'\\tTrain Loss: {train_loss:.3f}')\n",
    "\n",
    "    if epoch % CHECK_VAL_EVERY_N_EPOCH == 0:\n",
    "      val_loss, val_acc = evaluate(model, val_loader, loss_fn)\n",
    "      print(f'Val Loss: {val_loss:.3f} | Val Acc: {val_acc*100:.2f}%')\n",
    "\n",
    "\n",
    "torch.save(model.state_dict(), 'model.pt')  # saving model's parameters"
   ]
  },
  {
   "cell_type": "markdown",
   "metadata": {
    "id": "kvWnjDoRdrEK"
   },
   "source": [
    "After 5 epochs' training, we can load the parameter and evaluate the model:"
   ]
  },
  {
   "cell_type": "code",
   "execution_count": 62,
   "metadata": {
    "colab": {
     "base_uri": "https://localhost:8080/"
    },
    "id": "UizGWUDPd4b0",
    "outputId": "6505e2ec-bb07-4b8d-8f48-a299aa25de96"
   },
   "outputs": [
    {
     "name": "stderr",
     "output_type": "stream",
     "text": [
      "<ipython-input-62-3c2ace7f4f37>:1: FutureWarning: You are using `torch.load` with `weights_only=False` (the current default value), which uses the default pickle module implicitly. It is possible to construct malicious pickle data which will execute arbitrary code during unpickling (See https://github.com/pytorch/pytorch/blob/main/SECURITY.md#untrusted-models for more details). In a future release, the default value for `weights_only` will be flipped to `True`. This limits the functions that could be executed during unpickling. Arbitrary objects will no longer be allowed to be loaded via this mode unless they are explicitly allowlisted by the user via `torch.serialization.add_safe_globals`. We recommend you start setting `weights_only=True` for any use case where you don't have full control of the loaded file. Please open an issue on GitHub for any issues related to this experimental feature.\n",
      "  model.load_state_dict(torch.load('model.pt'))\n"
     ]
    },
    {
     "name": "stdout",
     "output_type": "stream",
     "text": [
      "Test Loss: 0.092 | Test Acc: 96.84%\n"
     ]
    }
   ],
   "source": [
    "model.load_state_dict(torch.load('model.pt'))\n",
    "\n",
    "test_loss, test_acc = evaluate(model, test_loader, loss_fn)\n",
    "\n",
    "print(f'Test Loss: {test_loss:.3f} | Test Acc: {test_acc*100:.2f}%')"
   ]
  },
  {
   "cell_type": "markdown",
   "metadata": {
    "id": "-5mvZ5q4Szgd"
   },
   "source": [
    "## Submission\n",
    "\n",
    "Make sure to run all the cells and save a copy of this colab in your driver. If you complete this notebook, download the colab and upload your work to canvas to submit it.\n"
   ]
  }
 ],
 "metadata": {
  "colab": {
   "provenance": []
  },
  "kernelspec": {
   "display_name": "Python 3 (ipykernel)",
   "language": "python",
   "name": "python3"
  },
  "language_info": {
   "codemirror_mode": {
    "name": "ipython",
    "version": 3
   },
   "file_extension": ".py",
   "mimetype": "text/x-python",
   "name": "python",
   "nbconvert_exporter": "python",
   "pygments_lexer": "ipython3",
   "version": "3.11.5"
  }
 },
 "nbformat": 4,
 "nbformat_minor": 4
}
